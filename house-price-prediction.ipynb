{
 "cells": [
  {
   "cell_type": "code",
   "execution_count": 1,
   "id": "facb1314",
   "metadata": {
    "_cell_guid": "b1076dfc-b9ad-4769-8c92-a6c4dae69d19",
    "_uuid": "8f2839f25d086af736a60e9eeb907d3b93b6e0e5",
    "execution": {
     "iopub.execute_input": "2022-09-20T09:28:10.216455Z",
     "iopub.status.busy": "2022-09-20T09:28:10.216036Z",
     "iopub.status.idle": "2022-09-20T09:28:11.284935Z",
     "shell.execute_reply": "2022-09-20T09:28:11.283892Z"
    },
    "papermill": {
     "duration": 1.081168,
     "end_time": "2022-09-20T09:28:11.287598",
     "exception": false,
     "start_time": "2022-09-20T09:28:10.206430",
     "status": "completed"
    },
    "tags": []
   },
   "outputs": [
    {
     "name": "stdout",
     "output_type": "stream",
     "text": [
      "/kaggle/input/house-prices-advanced-regression-techniques/sample_submission.csv\n",
      "/kaggle/input/house-prices-advanced-regression-techniques/data_description.txt\n",
      "/kaggle/input/house-prices-advanced-regression-techniques/train.csv\n",
      "/kaggle/input/house-prices-advanced-regression-techniques/test.csv\n"
     ]
    }
   ],
   "source": [
    "# This Python 3 environment comes with many helpful analytics libraries installed\n",
    "# It is defined by the kaggle/python Docker image: https://github.com/kaggle/docker-python\n",
    "# For example, here's several helpful packages to load\n",
    "\n",
    "import numpy as np # linear algebra\n",
    "import pandas as pd # data processing, CSV file I/O (e.g. pd.read_csv)\n",
    "\n",
    "\n",
    "pd.plotting.register_matplotlib_converters()\n",
    "import matplotlib.pyplot as plt\n",
    "%matplotlib inline\n",
    "import seaborn as sns\n",
    "# Input data files are available in the read-only \"../input/\" directory\n",
    "# For example, running this (by clicking run or pressing Shift+Enter) will list all files under the input directory\n",
    "\n",
    "import os\n",
    "for dirname, _, filenames in os.walk('/kaggle/input'):\n",
    "    for filename in filenames:\n",
    "        print(os.path.join(dirname, filename))\n",
    "\n",
    "# You can write up to 20GB to the current directory (/kaggle/working/) that gets preserved as output when you create a version using \"Save & Run All\" \n",
    "# You can also write temporary files to /kaggle/temp/, but they won't be saved outside of the current session"
   ]
  },
  {
   "cell_type": "markdown",
   "id": "979f6b3a",
   "metadata": {
    "papermill": {
     "duration": 0.006333,
     "end_time": "2022-09-20T09:28:11.301206",
     "exception": false,
     "start_time": "2022-09-20T09:28:11.294873",
     "status": "completed"
    },
    "tags": []
   },
   "source": [
    "# **Initial Analysis. **"
   ]
  },
  {
   "cell_type": "markdown",
   "id": "45c75c60",
   "metadata": {
    "papermill": {
     "duration": 0.005915,
     "end_time": "2022-09-20T09:28:11.314676",
     "exception": false,
     "start_time": "2022-09-20T09:28:11.308761",
     "status": "completed"
    },
    "tags": []
   },
   "source": [
    "1. Clean both tran and test data. \n",
    "2. Analyze the data to see the insights. \n",
    "3. Extract relevant data \n",
    "4. Further Explore.\n"
   ]
  },
  {
   "cell_type": "markdown",
   "id": "5cc8bd1c",
   "metadata": {
    "papermill": {
     "duration": 0.005779,
     "end_time": "2022-09-20T09:28:11.326614",
     "exception": false,
     "start_time": "2022-09-20T09:28:11.320835",
     "status": "completed"
    },
    "tags": []
   },
   "source": [
    "# **Data Exploaration**\n",
    "Initial exploration on the training data. Performing data cleaning tasks. "
   ]
  },
  {
   "cell_type": "code",
   "execution_count": 2,
   "id": "07040335",
   "metadata": {
    "execution": {
     "iopub.execute_input": "2022-09-20T09:28:11.341230Z",
     "iopub.status.busy": "2022-09-20T09:28:11.340103Z",
     "iopub.status.idle": "2022-09-20T09:28:11.390733Z",
     "shell.execute_reply": "2022-09-20T09:28:11.389733Z"
    },
    "papermill": {
     "duration": 0.060597,
     "end_time": "2022-09-20T09:28:11.393288",
     "exception": false,
     "start_time": "2022-09-20T09:28:11.332691",
     "status": "completed"
    },
    "tags": []
   },
   "outputs": [],
   "source": [
    "import pandas as pd\n",
    "import numpy as np\n",
    "\n",
    "# read in all our data\n",
    "house_price_data = pd.read_csv(\"../input/house-prices-advanced-regression-techniques/train.csv\")\n",
    "\n",
    "# set seed for reproducibility\n",
    "np.random.seed(0) "
   ]
  },
  {
   "cell_type": "code",
   "execution_count": 3,
   "id": "913a2bf2",
   "metadata": {
    "execution": {
     "iopub.execute_input": "2022-09-20T09:28:11.407237Z",
     "iopub.status.busy": "2022-09-20T09:28:11.406866Z",
     "iopub.status.idle": "2022-09-20T09:28:11.442218Z",
     "shell.execute_reply": "2022-09-20T09:28:11.440895Z"
    },
    "papermill": {
     "duration": 0.045043,
     "end_time": "2022-09-20T09:28:11.444548",
     "exception": false,
     "start_time": "2022-09-20T09:28:11.399505",
     "status": "completed"
    },
    "tags": []
   },
   "outputs": [
    {
     "data": {
      "text/html": [
       "<div>\n",
       "<style scoped>\n",
       "    .dataframe tbody tr th:only-of-type {\n",
       "        vertical-align: middle;\n",
       "    }\n",
       "\n",
       "    .dataframe tbody tr th {\n",
       "        vertical-align: top;\n",
       "    }\n",
       "\n",
       "    .dataframe thead th {\n",
       "        text-align: right;\n",
       "    }\n",
       "</style>\n",
       "<table border=\"1\" class=\"dataframe\">\n",
       "  <thead>\n",
       "    <tr style=\"text-align: right;\">\n",
       "      <th></th>\n",
       "      <th>Id</th>\n",
       "      <th>MSSubClass</th>\n",
       "      <th>MSZoning</th>\n",
       "      <th>LotFrontage</th>\n",
       "      <th>LotArea</th>\n",
       "      <th>Street</th>\n",
       "      <th>Alley</th>\n",
       "      <th>LotShape</th>\n",
       "      <th>LandContour</th>\n",
       "      <th>Utilities</th>\n",
       "      <th>...</th>\n",
       "      <th>PoolArea</th>\n",
       "      <th>PoolQC</th>\n",
       "      <th>Fence</th>\n",
       "      <th>MiscFeature</th>\n",
       "      <th>MiscVal</th>\n",
       "      <th>MoSold</th>\n",
       "      <th>YrSold</th>\n",
       "      <th>SaleType</th>\n",
       "      <th>SaleCondition</th>\n",
       "      <th>SalePrice</th>\n",
       "    </tr>\n",
       "  </thead>\n",
       "  <tbody>\n",
       "    <tr>\n",
       "      <th>0</th>\n",
       "      <td>1</td>\n",
       "      <td>60</td>\n",
       "      <td>RL</td>\n",
       "      <td>65.0</td>\n",
       "      <td>8450</td>\n",
       "      <td>Pave</td>\n",
       "      <td>NaN</td>\n",
       "      <td>Reg</td>\n",
       "      <td>Lvl</td>\n",
       "      <td>AllPub</td>\n",
       "      <td>...</td>\n",
       "      <td>0</td>\n",
       "      <td>NaN</td>\n",
       "      <td>NaN</td>\n",
       "      <td>NaN</td>\n",
       "      <td>0</td>\n",
       "      <td>2</td>\n",
       "      <td>2008</td>\n",
       "      <td>WD</td>\n",
       "      <td>Normal</td>\n",
       "      <td>208500</td>\n",
       "    </tr>\n",
       "    <tr>\n",
       "      <th>1</th>\n",
       "      <td>2</td>\n",
       "      <td>20</td>\n",
       "      <td>RL</td>\n",
       "      <td>80.0</td>\n",
       "      <td>9600</td>\n",
       "      <td>Pave</td>\n",
       "      <td>NaN</td>\n",
       "      <td>Reg</td>\n",
       "      <td>Lvl</td>\n",
       "      <td>AllPub</td>\n",
       "      <td>...</td>\n",
       "      <td>0</td>\n",
       "      <td>NaN</td>\n",
       "      <td>NaN</td>\n",
       "      <td>NaN</td>\n",
       "      <td>0</td>\n",
       "      <td>5</td>\n",
       "      <td>2007</td>\n",
       "      <td>WD</td>\n",
       "      <td>Normal</td>\n",
       "      <td>181500</td>\n",
       "    </tr>\n",
       "    <tr>\n",
       "      <th>2</th>\n",
       "      <td>3</td>\n",
       "      <td>60</td>\n",
       "      <td>RL</td>\n",
       "      <td>68.0</td>\n",
       "      <td>11250</td>\n",
       "      <td>Pave</td>\n",
       "      <td>NaN</td>\n",
       "      <td>IR1</td>\n",
       "      <td>Lvl</td>\n",
       "      <td>AllPub</td>\n",
       "      <td>...</td>\n",
       "      <td>0</td>\n",
       "      <td>NaN</td>\n",
       "      <td>NaN</td>\n",
       "      <td>NaN</td>\n",
       "      <td>0</td>\n",
       "      <td>9</td>\n",
       "      <td>2008</td>\n",
       "      <td>WD</td>\n",
       "      <td>Normal</td>\n",
       "      <td>223500</td>\n",
       "    </tr>\n",
       "    <tr>\n",
       "      <th>3</th>\n",
       "      <td>4</td>\n",
       "      <td>70</td>\n",
       "      <td>RL</td>\n",
       "      <td>60.0</td>\n",
       "      <td>9550</td>\n",
       "      <td>Pave</td>\n",
       "      <td>NaN</td>\n",
       "      <td>IR1</td>\n",
       "      <td>Lvl</td>\n",
       "      <td>AllPub</td>\n",
       "      <td>...</td>\n",
       "      <td>0</td>\n",
       "      <td>NaN</td>\n",
       "      <td>NaN</td>\n",
       "      <td>NaN</td>\n",
       "      <td>0</td>\n",
       "      <td>2</td>\n",
       "      <td>2006</td>\n",
       "      <td>WD</td>\n",
       "      <td>Abnorml</td>\n",
       "      <td>140000</td>\n",
       "    </tr>\n",
       "    <tr>\n",
       "      <th>4</th>\n",
       "      <td>5</td>\n",
       "      <td>60</td>\n",
       "      <td>RL</td>\n",
       "      <td>84.0</td>\n",
       "      <td>14260</td>\n",
       "      <td>Pave</td>\n",
       "      <td>NaN</td>\n",
       "      <td>IR1</td>\n",
       "      <td>Lvl</td>\n",
       "      <td>AllPub</td>\n",
       "      <td>...</td>\n",
       "      <td>0</td>\n",
       "      <td>NaN</td>\n",
       "      <td>NaN</td>\n",
       "      <td>NaN</td>\n",
       "      <td>0</td>\n",
       "      <td>12</td>\n",
       "      <td>2008</td>\n",
       "      <td>WD</td>\n",
       "      <td>Normal</td>\n",
       "      <td>250000</td>\n",
       "    </tr>\n",
       "  </tbody>\n",
       "</table>\n",
       "<p>5 rows × 81 columns</p>\n",
       "</div>"
      ],
      "text/plain": [
       "   Id  MSSubClass MSZoning  LotFrontage  LotArea Street Alley LotShape  \\\n",
       "0   1          60       RL         65.0     8450   Pave   NaN      Reg   \n",
       "1   2          20       RL         80.0     9600   Pave   NaN      Reg   \n",
       "2   3          60       RL         68.0    11250   Pave   NaN      IR1   \n",
       "3   4          70       RL         60.0     9550   Pave   NaN      IR1   \n",
       "4   5          60       RL         84.0    14260   Pave   NaN      IR1   \n",
       "\n",
       "  LandContour Utilities  ... PoolArea PoolQC Fence MiscFeature MiscVal MoSold  \\\n",
       "0         Lvl    AllPub  ...        0    NaN   NaN         NaN       0      2   \n",
       "1         Lvl    AllPub  ...        0    NaN   NaN         NaN       0      5   \n",
       "2         Lvl    AllPub  ...        0    NaN   NaN         NaN       0      9   \n",
       "3         Lvl    AllPub  ...        0    NaN   NaN         NaN       0      2   \n",
       "4         Lvl    AllPub  ...        0    NaN   NaN         NaN       0     12   \n",
       "\n",
       "  YrSold  SaleType  SaleCondition  SalePrice  \n",
       "0   2008        WD         Normal     208500  \n",
       "1   2007        WD         Normal     181500  \n",
       "2   2008        WD         Normal     223500  \n",
       "3   2006        WD        Abnorml     140000  \n",
       "4   2008        WD         Normal     250000  \n",
       "\n",
       "[5 rows x 81 columns]"
      ]
     },
     "execution_count": 3,
     "metadata": {},
     "output_type": "execute_result"
    }
   ],
   "source": [
    "house_price_data.head()"
   ]
  },
  {
   "cell_type": "code",
   "execution_count": 4,
   "id": "dc30b9ea",
   "metadata": {
    "execution": {
     "iopub.execute_input": "2022-09-20T09:28:11.459143Z",
     "iopub.status.busy": "2022-09-20T09:28:11.458783Z",
     "iopub.status.idle": "2022-09-20T09:28:11.466348Z",
     "shell.execute_reply": "2022-09-20T09:28:11.465259Z"
    },
    "papermill": {
     "duration": 0.017302,
     "end_time": "2022-09-20T09:28:11.468492",
     "exception": false,
     "start_time": "2022-09-20T09:28:11.451190",
     "status": "completed"
    },
    "tags": []
   },
   "outputs": [
    {
     "data": {
      "text/plain": [
       "Index(['Id', 'MSSubClass', 'MSZoning', 'LotFrontage', 'LotArea', 'Street',\n",
       "       'Alley', 'LotShape', 'LandContour', 'Utilities', 'LotConfig',\n",
       "       'LandSlope', 'Neighborhood', 'Condition1', 'Condition2', 'BldgType',\n",
       "       'HouseStyle', 'OverallQual', 'OverallCond', 'YearBuilt', 'YearRemodAdd',\n",
       "       'RoofStyle', 'RoofMatl', 'Exterior1st', 'Exterior2nd', 'MasVnrType',\n",
       "       'MasVnrArea', 'ExterQual', 'ExterCond', 'Foundation', 'BsmtQual',\n",
       "       'BsmtCond', 'BsmtExposure', 'BsmtFinType1', 'BsmtFinSF1',\n",
       "       'BsmtFinType2', 'BsmtFinSF2', 'BsmtUnfSF', 'TotalBsmtSF', 'Heating',\n",
       "       'HeatingQC', 'CentralAir', 'Electrical', '1stFlrSF', '2ndFlrSF',\n",
       "       'LowQualFinSF', 'GrLivArea', 'BsmtFullBath', 'BsmtHalfBath', 'FullBath',\n",
       "       'HalfBath', 'BedroomAbvGr', 'KitchenAbvGr', 'KitchenQual',\n",
       "       'TotRmsAbvGrd', 'Functional', 'Fireplaces', 'FireplaceQu', 'GarageType',\n",
       "       'GarageYrBlt', 'GarageFinish', 'GarageCars', 'GarageArea', 'GarageQual',\n",
       "       'GarageCond', 'PavedDrive', 'WoodDeckSF', 'OpenPorchSF',\n",
       "       'EnclosedPorch', '3SsnPorch', 'ScreenPorch', 'PoolArea', 'PoolQC',\n",
       "       'Fence', 'MiscFeature', 'MiscVal', 'MoSold', 'YrSold', 'SaleType',\n",
       "       'SaleCondition', 'SalePrice'],\n",
       "      dtype='object')"
      ]
     },
     "execution_count": 4,
     "metadata": {},
     "output_type": "execute_result"
    }
   ],
   "source": [
    "house_price_data.columns"
   ]
  },
  {
   "cell_type": "markdown",
   "id": "f95375a4",
   "metadata": {
    "papermill": {
     "duration": 0.006329,
     "end_time": "2022-09-20T09:28:11.481414",
     "exception": false,
     "start_time": "2022-09-20T09:28:11.475085",
     "status": "completed"
    },
    "tags": []
   },
   "source": [
    "**** Missing Values in coloumns ****"
   ]
  },
  {
   "cell_type": "code",
   "execution_count": 5,
   "id": "32a5f3d5",
   "metadata": {
    "_kg_hide-output": true,
    "execution": {
     "iopub.execute_input": "2022-09-20T09:28:11.495999Z",
     "iopub.status.busy": "2022-09-20T09:28:11.495635Z",
     "iopub.status.idle": "2022-09-20T09:28:11.502501Z",
     "shell.execute_reply": "2022-09-20T09:28:11.501514Z"
    },
    "papermill": {
     "duration": 0.016894,
     "end_time": "2022-09-20T09:28:11.504816",
     "exception": false,
     "start_time": "2022-09-20T09:28:11.487922",
     "status": "completed"
    },
    "tags": []
   },
   "outputs": [
    {
     "data": {
      "text/plain": [
       "1460"
      ]
     },
     "execution_count": 5,
     "metadata": {},
     "output_type": "execute_result"
    }
   ],
   "source": [
    "#total number of coloumns\n",
    "len(house_price_data.columns)#  TOTAL 81\n",
    "#total number of rows\n",
    "len(house_price_data) # TOTAL 1460"
   ]
  },
  {
   "cell_type": "code",
   "execution_count": 6,
   "id": "2640dafc",
   "metadata": {
    "execution": {
     "iopub.execute_input": "2022-09-20T09:28:11.519840Z",
     "iopub.status.busy": "2022-09-20T09:28:11.519458Z",
     "iopub.status.idle": "2022-09-20T09:28:11.531821Z",
     "shell.execute_reply": "2022-09-20T09:28:11.530442Z"
    },
    "papermill": {
     "duration": 0.022285,
     "end_time": "2022-09-20T09:28:11.533838",
     "exception": false,
     "start_time": "2022-09-20T09:28:11.511553",
     "status": "completed"
    },
    "tags": []
   },
   "outputs": [
    {
     "name": "stdout",
     "output_type": "stream",
     "text": [
      "percent_missing:  5.889565364451209\n"
     ]
    }
   ],
   "source": [
    "#number of missing data points per column\n",
    "missing_values_count = house_price_data.isnull().sum()\n",
    "# print(missing_values_count)\n",
    "# Percentage of missing values \n",
    "total_cells = np.product(house_price_data.shape)\n",
    "total_missing = missing_values_count.sum()\n",
    "\n",
    "# percent of data that is missing\n",
    "percent_missing = (total_missing/total_cells) * 100\n",
    "print(\"percent_missing: \",percent_missing)  # 5.88 % \n",
    "#only 5.8 percent missing values. \n"
   ]
  },
  {
   "cell_type": "code",
   "execution_count": 7,
   "id": "a824eb60",
   "metadata": {
    "execution": {
     "iopub.execute_input": "2022-09-20T09:28:11.549349Z",
     "iopub.status.busy": "2022-09-20T09:28:11.548979Z",
     "iopub.status.idle": "2022-09-20T09:28:11.573372Z",
     "shell.execute_reply": "2022-09-20T09:28:11.572170Z"
    },
    "papermill": {
     "duration": 0.035033,
     "end_time": "2022-09-20T09:28:11.575878",
     "exception": false,
     "start_time": "2022-09-20T09:28:11.540845",
     "status": "completed"
    },
    "tags": []
   },
   "outputs": [
    {
     "data": {
      "text/html": [
       "<div>\n",
       "<style scoped>\n",
       "    .dataframe tbody tr th:only-of-type {\n",
       "        vertical-align: middle;\n",
       "    }\n",
       "\n",
       "    .dataframe tbody tr th {\n",
       "        vertical-align: top;\n",
       "    }\n",
       "\n",
       "    .dataframe thead th {\n",
       "        text-align: right;\n",
       "    }\n",
       "</style>\n",
       "<table border=\"1\" class=\"dataframe\">\n",
       "  <thead>\n",
       "    <tr style=\"text-align: right;\">\n",
       "      <th></th>\n",
       "      <th>Id</th>\n",
       "      <th>MSSubClass</th>\n",
       "      <th>MSZoning</th>\n",
       "      <th>LotFrontage</th>\n",
       "      <th>LotArea</th>\n",
       "      <th>Street</th>\n",
       "      <th>Alley</th>\n",
       "      <th>LotShape</th>\n",
       "      <th>LandContour</th>\n",
       "      <th>Utilities</th>\n",
       "      <th>...</th>\n",
       "      <th>PoolArea</th>\n",
       "      <th>PoolQC</th>\n",
       "      <th>Fence</th>\n",
       "      <th>MiscFeature</th>\n",
       "      <th>MiscVal</th>\n",
       "      <th>MoSold</th>\n",
       "      <th>YrSold</th>\n",
       "      <th>SaleType</th>\n",
       "      <th>SaleCondition</th>\n",
       "      <th>SalePrice</th>\n",
       "    </tr>\n",
       "  </thead>\n",
       "  <tbody>\n",
       "  </tbody>\n",
       "</table>\n",
       "<p>0 rows × 81 columns</p>\n",
       "</div>"
      ],
      "text/plain": [
       "Empty DataFrame\n",
       "Columns: [Id, MSSubClass, MSZoning, LotFrontage, LotArea, Street, Alley, LotShape, LandContour, Utilities, LotConfig, LandSlope, Neighborhood, Condition1, Condition2, BldgType, HouseStyle, OverallQual, OverallCond, YearBuilt, YearRemodAdd, RoofStyle, RoofMatl, Exterior1st, Exterior2nd, MasVnrType, MasVnrArea, ExterQual, ExterCond, Foundation, BsmtQual, BsmtCond, BsmtExposure, BsmtFinType1, BsmtFinSF1, BsmtFinType2, BsmtFinSF2, BsmtUnfSF, TotalBsmtSF, Heating, HeatingQC, CentralAir, Electrical, 1stFlrSF, 2ndFlrSF, LowQualFinSF, GrLivArea, BsmtFullBath, BsmtHalfBath, FullBath, HalfBath, BedroomAbvGr, KitchenAbvGr, KitchenQual, TotRmsAbvGrd, Functional, Fireplaces, FireplaceQu, GarageType, GarageYrBlt, GarageFinish, GarageCars, GarageArea, GarageQual, GarageCond, PavedDrive, WoodDeckSF, OpenPorchSF, EnclosedPorch, 3SsnPorch, ScreenPorch, PoolArea, PoolQC, Fence, MiscFeature, MiscVal, MoSold, YrSold, SaleType, SaleCondition, SalePrice]\n",
       "Index: []\n",
       "\n",
       "[0 rows x 81 columns]"
      ]
     },
     "execution_count": 7,
     "metadata": {},
     "output_type": "execute_result"
    }
   ],
   "source": [
    "# remove all the rows that contain a missing value\n",
    "house_price_data.dropna()"
   ]
  },
  {
   "cell_type": "code",
   "execution_count": 8,
   "id": "5a35170e",
   "metadata": {
    "execution": {
     "iopub.execute_input": "2022-09-20T09:28:11.591793Z",
     "iopub.status.busy": "2022-09-20T09:28:11.591406Z",
     "iopub.status.idle": "2022-09-20T09:28:11.606677Z",
     "shell.execute_reply": "2022-09-20T09:28:11.605402Z"
    },
    "papermill": {
     "duration": 0.027044,
     "end_time": "2022-09-20T09:28:11.610145",
     "exception": false,
     "start_time": "2022-09-20T09:28:11.583101",
     "status": "completed"
    },
    "tags": []
   },
   "outputs": [
    {
     "name": "stdout",
     "output_type": "stream",
     "text": [
      "Columns in original dataset: 81 \n",
      "\n",
      "Columns with na's  19\n",
      "columns with missing values  19\n"
     ]
    }
   ],
   "source": [
    "#sort the missing values series\n",
    "sorted_missing_values_count = missing_values_count.sort_values(ascending=False)\n",
    "\n",
    "\n",
    "#  all columns with at least one missing value\n",
    "columns_with_no_na = house_price_data.dropna(axis=1)\n",
    "columns_with_no_na.head()\n",
    "\n",
    "# just how much columns did we lose?\n",
    "columns_with_na= house_price_data.shape[1] - columns_with_no_na.shape[1]\n",
    "print(\"Columns in original dataset: %d \\n\" % house_price_data.shape[1])\n",
    "print(\"Columns with na's  %d\" % columns_with_na)\n",
    "\n",
    "#to cross check how many coloumns, we have at least one missing value\n",
    "coloumn_missingvalues_count  = sorted_missing_values_count[sorted_missing_values_count != 0]\n",
    "print(\"columns with missing values \" , len(coloumn_missingvalues_count)) \n",
    "# there are 19 columns with na\n"
   ]
  },
  {
   "cell_type": "markdown",
   "id": "b0162377",
   "metadata": {
    "papermill": {
     "duration": 0.006899,
     "end_time": "2022-09-20T09:28:11.624799",
     "exception": false,
     "start_time": "2022-09-20T09:28:11.617900",
     "status": "completed"
    },
    "tags": []
   },
   "source": [
    "Sorting the dataframe based on missing value count, the first 19 column names are seen. "
   ]
  },
  {
   "cell_type": "code",
   "execution_count": 9,
   "id": "d1728653",
   "metadata": {
    "execution": {
     "iopub.execute_input": "2022-09-20T09:28:11.641361Z",
     "iopub.status.busy": "2022-09-20T09:28:11.640972Z",
     "iopub.status.idle": "2022-09-20T09:28:11.679987Z",
     "shell.execute_reply": "2022-09-20T09:28:11.678549Z"
    },
    "papermill": {
     "duration": 0.051117,
     "end_time": "2022-09-20T09:28:11.683633",
     "exception": false,
     "start_time": "2022-09-20T09:28:11.632516",
     "status": "completed"
    },
    "tags": []
   },
   "outputs": [
    {
     "name": "stdout",
     "output_type": "stream",
     "text": [
      "PoolQC          1453\n",
      "MiscFeature     1406\n",
      "Alley           1369\n",
      "Fence           1179\n",
      "FireplaceQu      690\n",
      "LotFrontage      259\n",
      "GarageYrBlt       81\n",
      "GarageCond        81\n",
      "GarageType        81\n",
      "GarageFinish      81\n",
      "GarageQual        81\n",
      "BsmtFinType2      38\n",
      "BsmtExposure      38\n",
      "BsmtQual          37\n",
      "BsmtCond          37\n",
      "BsmtFinType1      37\n",
      "MasVnrArea         8\n",
      "MasVnrType         8\n",
      "Electrical         1\n",
      "dtype: int64\n"
     ]
    },
    {
     "data": {
      "text/html": [
       "<div>\n",
       "<style scoped>\n",
       "    .dataframe tbody tr th:only-of-type {\n",
       "        vertical-align: middle;\n",
       "    }\n",
       "\n",
       "    .dataframe tbody tr th {\n",
       "        vertical-align: top;\n",
       "    }\n",
       "\n",
       "    .dataframe thead th {\n",
       "        text-align: right;\n",
       "    }\n",
       "</style>\n",
       "<table border=\"1\" class=\"dataframe\">\n",
       "  <thead>\n",
       "    <tr style=\"text-align: right;\">\n",
       "      <th></th>\n",
       "      <th>PoolQC</th>\n",
       "      <th>MiscFeature</th>\n",
       "      <th>Alley</th>\n",
       "      <th>Fence</th>\n",
       "      <th>FireplaceQu</th>\n",
       "      <th>LotFrontage</th>\n",
       "      <th>GarageYrBlt</th>\n",
       "      <th>GarageCond</th>\n",
       "      <th>GarageType</th>\n",
       "      <th>GarageFinish</th>\n",
       "      <th>GarageQual</th>\n",
       "      <th>BsmtFinType2</th>\n",
       "      <th>BsmtExposure</th>\n",
       "      <th>BsmtQual</th>\n",
       "      <th>BsmtCond</th>\n",
       "      <th>BsmtFinType1</th>\n",
       "      <th>MasVnrArea</th>\n",
       "      <th>MasVnrType</th>\n",
       "      <th>Electrical</th>\n",
       "    </tr>\n",
       "  </thead>\n",
       "  <tbody>\n",
       "    <tr>\n",
       "      <th>0</th>\n",
       "      <td>NaN</td>\n",
       "      <td>NaN</td>\n",
       "      <td>NaN</td>\n",
       "      <td>NaN</td>\n",
       "      <td>NaN</td>\n",
       "      <td>65.0</td>\n",
       "      <td>2003.0</td>\n",
       "      <td>TA</td>\n",
       "      <td>Attchd</td>\n",
       "      <td>RFn</td>\n",
       "      <td>TA</td>\n",
       "      <td>Unf</td>\n",
       "      <td>No</td>\n",
       "      <td>Gd</td>\n",
       "      <td>TA</td>\n",
       "      <td>GLQ</td>\n",
       "      <td>196.0</td>\n",
       "      <td>BrkFace</td>\n",
       "      <td>SBrkr</td>\n",
       "    </tr>\n",
       "    <tr>\n",
       "      <th>1</th>\n",
       "      <td>NaN</td>\n",
       "      <td>NaN</td>\n",
       "      <td>NaN</td>\n",
       "      <td>NaN</td>\n",
       "      <td>TA</td>\n",
       "      <td>80.0</td>\n",
       "      <td>1976.0</td>\n",
       "      <td>TA</td>\n",
       "      <td>Attchd</td>\n",
       "      <td>RFn</td>\n",
       "      <td>TA</td>\n",
       "      <td>Unf</td>\n",
       "      <td>Gd</td>\n",
       "      <td>Gd</td>\n",
       "      <td>TA</td>\n",
       "      <td>ALQ</td>\n",
       "      <td>0.0</td>\n",
       "      <td>None</td>\n",
       "      <td>SBrkr</td>\n",
       "    </tr>\n",
       "    <tr>\n",
       "      <th>2</th>\n",
       "      <td>NaN</td>\n",
       "      <td>NaN</td>\n",
       "      <td>NaN</td>\n",
       "      <td>NaN</td>\n",
       "      <td>TA</td>\n",
       "      <td>68.0</td>\n",
       "      <td>2001.0</td>\n",
       "      <td>TA</td>\n",
       "      <td>Attchd</td>\n",
       "      <td>RFn</td>\n",
       "      <td>TA</td>\n",
       "      <td>Unf</td>\n",
       "      <td>Mn</td>\n",
       "      <td>Gd</td>\n",
       "      <td>TA</td>\n",
       "      <td>GLQ</td>\n",
       "      <td>162.0</td>\n",
       "      <td>BrkFace</td>\n",
       "      <td>SBrkr</td>\n",
       "    </tr>\n",
       "    <tr>\n",
       "      <th>3</th>\n",
       "      <td>NaN</td>\n",
       "      <td>NaN</td>\n",
       "      <td>NaN</td>\n",
       "      <td>NaN</td>\n",
       "      <td>Gd</td>\n",
       "      <td>60.0</td>\n",
       "      <td>1998.0</td>\n",
       "      <td>TA</td>\n",
       "      <td>Detchd</td>\n",
       "      <td>Unf</td>\n",
       "      <td>TA</td>\n",
       "      <td>Unf</td>\n",
       "      <td>No</td>\n",
       "      <td>TA</td>\n",
       "      <td>Gd</td>\n",
       "      <td>ALQ</td>\n",
       "      <td>0.0</td>\n",
       "      <td>None</td>\n",
       "      <td>SBrkr</td>\n",
       "    </tr>\n",
       "    <tr>\n",
       "      <th>4</th>\n",
       "      <td>NaN</td>\n",
       "      <td>NaN</td>\n",
       "      <td>NaN</td>\n",
       "      <td>NaN</td>\n",
       "      <td>TA</td>\n",
       "      <td>84.0</td>\n",
       "      <td>2000.0</td>\n",
       "      <td>TA</td>\n",
       "      <td>Attchd</td>\n",
       "      <td>RFn</td>\n",
       "      <td>TA</td>\n",
       "      <td>Unf</td>\n",
       "      <td>Av</td>\n",
       "      <td>Gd</td>\n",
       "      <td>TA</td>\n",
       "      <td>GLQ</td>\n",
       "      <td>350.0</td>\n",
       "      <td>BrkFace</td>\n",
       "      <td>SBrkr</td>\n",
       "    </tr>\n",
       "    <tr>\n",
       "      <th>...</th>\n",
       "      <td>...</td>\n",
       "      <td>...</td>\n",
       "      <td>...</td>\n",
       "      <td>...</td>\n",
       "      <td>...</td>\n",
       "      <td>...</td>\n",
       "      <td>...</td>\n",
       "      <td>...</td>\n",
       "      <td>...</td>\n",
       "      <td>...</td>\n",
       "      <td>...</td>\n",
       "      <td>...</td>\n",
       "      <td>...</td>\n",
       "      <td>...</td>\n",
       "      <td>...</td>\n",
       "      <td>...</td>\n",
       "      <td>...</td>\n",
       "      <td>...</td>\n",
       "      <td>...</td>\n",
       "    </tr>\n",
       "    <tr>\n",
       "      <th>1455</th>\n",
       "      <td>NaN</td>\n",
       "      <td>NaN</td>\n",
       "      <td>NaN</td>\n",
       "      <td>NaN</td>\n",
       "      <td>TA</td>\n",
       "      <td>62.0</td>\n",
       "      <td>1999.0</td>\n",
       "      <td>TA</td>\n",
       "      <td>Attchd</td>\n",
       "      <td>RFn</td>\n",
       "      <td>TA</td>\n",
       "      <td>Unf</td>\n",
       "      <td>No</td>\n",
       "      <td>Gd</td>\n",
       "      <td>TA</td>\n",
       "      <td>Unf</td>\n",
       "      <td>0.0</td>\n",
       "      <td>None</td>\n",
       "      <td>SBrkr</td>\n",
       "    </tr>\n",
       "    <tr>\n",
       "      <th>1456</th>\n",
       "      <td>NaN</td>\n",
       "      <td>NaN</td>\n",
       "      <td>NaN</td>\n",
       "      <td>MnPrv</td>\n",
       "      <td>TA</td>\n",
       "      <td>85.0</td>\n",
       "      <td>1978.0</td>\n",
       "      <td>TA</td>\n",
       "      <td>Attchd</td>\n",
       "      <td>Unf</td>\n",
       "      <td>TA</td>\n",
       "      <td>Rec</td>\n",
       "      <td>No</td>\n",
       "      <td>Gd</td>\n",
       "      <td>TA</td>\n",
       "      <td>ALQ</td>\n",
       "      <td>119.0</td>\n",
       "      <td>Stone</td>\n",
       "      <td>SBrkr</td>\n",
       "    </tr>\n",
       "    <tr>\n",
       "      <th>1457</th>\n",
       "      <td>NaN</td>\n",
       "      <td>Shed</td>\n",
       "      <td>NaN</td>\n",
       "      <td>GdPrv</td>\n",
       "      <td>Gd</td>\n",
       "      <td>66.0</td>\n",
       "      <td>1941.0</td>\n",
       "      <td>TA</td>\n",
       "      <td>Attchd</td>\n",
       "      <td>RFn</td>\n",
       "      <td>TA</td>\n",
       "      <td>Unf</td>\n",
       "      <td>No</td>\n",
       "      <td>TA</td>\n",
       "      <td>Gd</td>\n",
       "      <td>GLQ</td>\n",
       "      <td>0.0</td>\n",
       "      <td>None</td>\n",
       "      <td>SBrkr</td>\n",
       "    </tr>\n",
       "    <tr>\n",
       "      <th>1458</th>\n",
       "      <td>NaN</td>\n",
       "      <td>NaN</td>\n",
       "      <td>NaN</td>\n",
       "      <td>NaN</td>\n",
       "      <td>NaN</td>\n",
       "      <td>68.0</td>\n",
       "      <td>1950.0</td>\n",
       "      <td>TA</td>\n",
       "      <td>Attchd</td>\n",
       "      <td>Unf</td>\n",
       "      <td>TA</td>\n",
       "      <td>Rec</td>\n",
       "      <td>Mn</td>\n",
       "      <td>TA</td>\n",
       "      <td>TA</td>\n",
       "      <td>GLQ</td>\n",
       "      <td>0.0</td>\n",
       "      <td>None</td>\n",
       "      <td>FuseA</td>\n",
       "    </tr>\n",
       "    <tr>\n",
       "      <th>1459</th>\n",
       "      <td>NaN</td>\n",
       "      <td>NaN</td>\n",
       "      <td>NaN</td>\n",
       "      <td>NaN</td>\n",
       "      <td>NaN</td>\n",
       "      <td>75.0</td>\n",
       "      <td>1965.0</td>\n",
       "      <td>TA</td>\n",
       "      <td>Attchd</td>\n",
       "      <td>Fin</td>\n",
       "      <td>TA</td>\n",
       "      <td>LwQ</td>\n",
       "      <td>No</td>\n",
       "      <td>TA</td>\n",
       "      <td>TA</td>\n",
       "      <td>BLQ</td>\n",
       "      <td>0.0</td>\n",
       "      <td>None</td>\n",
       "      <td>SBrkr</td>\n",
       "    </tr>\n",
       "  </tbody>\n",
       "</table>\n",
       "<p>1460 rows × 19 columns</p>\n",
       "</div>"
      ],
      "text/plain": [
       "     PoolQC MiscFeature Alley  Fence FireplaceQu  LotFrontage  GarageYrBlt  \\\n",
       "0       NaN         NaN   NaN    NaN         NaN         65.0       2003.0   \n",
       "1       NaN         NaN   NaN    NaN          TA         80.0       1976.0   \n",
       "2       NaN         NaN   NaN    NaN          TA         68.0       2001.0   \n",
       "3       NaN         NaN   NaN    NaN          Gd         60.0       1998.0   \n",
       "4       NaN         NaN   NaN    NaN          TA         84.0       2000.0   \n",
       "...     ...         ...   ...    ...         ...          ...          ...   \n",
       "1455    NaN         NaN   NaN    NaN          TA         62.0       1999.0   \n",
       "1456    NaN         NaN   NaN  MnPrv          TA         85.0       1978.0   \n",
       "1457    NaN        Shed   NaN  GdPrv          Gd         66.0       1941.0   \n",
       "1458    NaN         NaN   NaN    NaN         NaN         68.0       1950.0   \n",
       "1459    NaN         NaN   NaN    NaN         NaN         75.0       1965.0   \n",
       "\n",
       "     GarageCond GarageType GarageFinish GarageQual BsmtFinType2 BsmtExposure  \\\n",
       "0            TA     Attchd          RFn         TA          Unf           No   \n",
       "1            TA     Attchd          RFn         TA          Unf           Gd   \n",
       "2            TA     Attchd          RFn         TA          Unf           Mn   \n",
       "3            TA     Detchd          Unf         TA          Unf           No   \n",
       "4            TA     Attchd          RFn         TA          Unf           Av   \n",
       "...         ...        ...          ...        ...          ...          ...   \n",
       "1455         TA     Attchd          RFn         TA          Unf           No   \n",
       "1456         TA     Attchd          Unf         TA          Rec           No   \n",
       "1457         TA     Attchd          RFn         TA          Unf           No   \n",
       "1458         TA     Attchd          Unf         TA          Rec           Mn   \n",
       "1459         TA     Attchd          Fin         TA          LwQ           No   \n",
       "\n",
       "     BsmtQual BsmtCond BsmtFinType1  MasVnrArea MasVnrType Electrical  \n",
       "0          Gd       TA          GLQ       196.0    BrkFace      SBrkr  \n",
       "1          Gd       TA          ALQ         0.0       None      SBrkr  \n",
       "2          Gd       TA          GLQ       162.0    BrkFace      SBrkr  \n",
       "3          TA       Gd          ALQ         0.0       None      SBrkr  \n",
       "4          Gd       TA          GLQ       350.0    BrkFace      SBrkr  \n",
       "...       ...      ...          ...         ...        ...        ...  \n",
       "1455       Gd       TA          Unf         0.0       None      SBrkr  \n",
       "1456       Gd       TA          ALQ       119.0      Stone      SBrkr  \n",
       "1457       TA       Gd          GLQ         0.0       None      SBrkr  \n",
       "1458       TA       TA          GLQ         0.0       None      FuseA  \n",
       "1459       TA       TA          BLQ         0.0       None      SBrkr  \n",
       "\n",
       "[1460 rows x 19 columns]"
      ]
     },
     "execution_count": 9,
     "metadata": {},
     "output_type": "execute_result"
    }
   ],
   "source": [
    "# Reviewing all the 19 columns and noting the count of missing values in each column. \n",
    "print(sorted_missing_values_count[0:19])\n",
    "column_names_with_nv = sorted_missing_values_count[0:19].keys()\n",
    "house_price_data[column_names_with_nv]\n",
    "#Getting all the rows where bsmtfintype2 is null.\n",
    "# house_price_data.loc[house_price_data['BsmtFinType2'].isnull()]\n"
   ]
  },
  {
   "cell_type": "markdown",
   "id": "e86be050",
   "metadata": {
    "papermill": {
     "duration": 0.007311,
     "end_time": "2022-09-20T09:28:11.698955",
     "exception": false,
     "start_time": "2022-09-20T09:28:11.691644",
     "status": "completed"
    },
    "tags": []
   },
   "source": [
    "****Analysis for the missing values in each column. (Imputation)****\n",
    "Seeing from the results it seems that PoolQC, MiscFeature, Alley, Fence missing more than 50 % of the values. \n",
    "In the case of PoolQC, we can assume that not every house has pool avalaible in it and only few houses have a pool, thus we can replace the missing values with NA (no pool). \n",
    "Similarly MiscFeature, Alley, Fence, FireplaceQu missing values can be filled with NA as not every house would have these things.  \n",
    "LotFrontage  As this is numerical and are values in feet, so the missing values can be replaced by the mean value. \n",
    "GarageFinish missing values with NA\n",
    "GarageYrBlt, GarageCond, GarageFinish, GarageQual:  Missing values can be replaced with NA as it is assumed they are linked with garage type because if theres no garage then there can't be a value for these instances. \n",
    "BsmtFinType2, BsmtExposure, BsmtQual, BsmtFinType1       missing values with NA\n",
    "MasVnrArea missing values in masonry vaneer area can be filled with 0.0. \n",
    "MasVnrType missing values can be filled with None. \n",
    "Electrical has one missing value, which can be replaced with NA(in this case Not avalibale.) - which can be changed after seeing the correlation with other features. \n",
    "\n",
    "\n",
    "\n"
   ]
  },
  {
   "cell_type": "code",
   "execution_count": 10,
   "id": "9b60dcf4",
   "metadata": {
    "execution": {
     "iopub.execute_input": "2022-09-20T09:28:11.716301Z",
     "iopub.status.busy": "2022-09-20T09:28:11.715480Z",
     "iopub.status.idle": "2022-09-20T09:28:11.724023Z",
     "shell.execute_reply": "2022-09-20T09:28:11.722898Z"
    },
    "papermill": {
     "duration": 0.01955,
     "end_time": "2022-09-20T09:28:11.726161",
     "exception": false,
     "start_time": "2022-09-20T09:28:11.706611",
     "status": "completed"
    },
    "tags": []
   },
   "outputs": [],
   "source": [
    "def fillMissingValues(df):\n",
    "\n",
    "    complete_house_price_data = df.copy()\n",
    "\n",
    "    complete_house_price_data =complete_house_price_data.fillna({'PoolQC':'NA', 'MiscFeature':'NA','Alley':'NA',\n",
    "                                                                 'Fence':'NA', 'FireplaceQu':'NA'})\n",
    "\n",
    "\n",
    "    complete_house_price_data = complete_house_price_data.fillna({'LotFrontage': complete_house_price_data['LotFrontage'].mean()})\n",
    "\n",
    "    complete_house_price_data =complete_house_price_data.fillna({'GarageYrBlt':'NA', 'GarageCond':'NA','GarageType':\"NA\",\"GarageQual\":\"NA\",\n",
    "                                               'GarageFinish':'NA', 'GarageFinish':'NA'})\n",
    "    complete_house_price_data =complete_house_price_data.fillna({'BsmtFinType2':'NA', 'BsmtExposure':'NA',\n",
    "                                               'BsmtQual':'NA', 'BsmtCond':'NA', 'BsmtFinType1':'NA'})\n",
    "\n",
    "    complete_house_price_data = complete_house_price_data.fillna({'MasVnrArea':0})\n",
    "\n",
    "    complete_house_price_data = complete_house_price_data.fillna({'MasVnrType':\"None\"})\n",
    "\n",
    "    complete_house_price_data = complete_house_price_data.fillna({'Electrical':\"NA\"})\n",
    "\n",
    "    complete_house_price_data.isnull().any()\n",
    "\n",
    "    return complete_house_price_data\n",
    "\n",
    "# complete_house_price_data[column_names_with_nv].isnull().sum()\n",
    "#Check to confirm data is free from missing values.\n",
    "#The missing values are filled. \n",
    "# complete_house_price_data = complete_house_pri/ce_data.drop(columns=['Id'])"
   ]
  },
  {
   "cell_type": "markdown",
   "id": "bd417f4c",
   "metadata": {
    "papermill": {
     "duration": 0.00729,
     "end_time": "2022-09-20T09:28:11.741289",
     "exception": false,
     "start_time": "2022-09-20T09:28:11.733999",
     "status": "completed"
    },
    "tags": []
   },
   "source": [
    "CLEAN BOTH TRAIN AND TEST DATA "
   ]
  },
  {
   "cell_type": "code",
   "execution_count": 11,
   "id": "211a55ad",
   "metadata": {
    "execution": {
     "iopub.execute_input": "2022-09-20T09:28:11.758799Z",
     "iopub.status.busy": "2022-09-20T09:28:11.757662Z",
     "iopub.status.idle": "2022-09-20T09:28:11.910836Z",
     "shell.execute_reply": "2022-09-20T09:28:11.909531Z"
    },
    "papermill": {
     "duration": 0.165466,
     "end_time": "2022-09-20T09:28:11.914405",
     "exception": false,
     "start_time": "2022-09-20T09:28:11.748939",
     "status": "completed"
    },
    "tags": []
   },
   "outputs": [
    {
     "name": "stdout",
     "output_type": "stream",
     "text": [
      "PoolQC          2909\n",
      "MiscFeature     2814\n",
      "Alley           2721\n",
      "Fence           2348\n",
      "SalePrice       1459\n",
      "FireplaceQu     1420\n",
      "LotFrontage      486\n",
      "GarageCond       159\n",
      "GarageFinish     159\n",
      "GarageQual       159\n",
      "GarageYrBlt      159\n",
      "GarageType       157\n",
      "BsmtCond          82\n",
      "BsmtExposure      82\n",
      "BsmtQual          81\n",
      "BsmtFinType2      80\n",
      "BsmtFinType1      79\n",
      "MasVnrType        24\n",
      "MasVnrArea        23\n",
      "MSZoning           4\n",
      "BsmtHalfBath       2\n",
      "Utilities          2\n",
      "BsmtFullBath       2\n",
      "Functional         2\n",
      "Exterior2nd        1\n",
      "Exterior1st        1\n",
      "GarageArea         1\n",
      "GarageCars         1\n",
      "SaleType           1\n",
      "KitchenQual        1\n",
      "BsmtFinSF1         1\n",
      "Electrical         1\n",
      "BsmtFinSF2         1\n",
      "BsmtUnfSF          1\n",
      "TotalBsmtSF        1\n",
      "dtype: int64\n"
     ]
    },
    {
     "data": {
      "text/html": [
       "<div>\n",
       "<style scoped>\n",
       "    .dataframe tbody tr th:only-of-type {\n",
       "        vertical-align: middle;\n",
       "    }\n",
       "\n",
       "    .dataframe tbody tr th {\n",
       "        vertical-align: top;\n",
       "    }\n",
       "\n",
       "    .dataframe thead th {\n",
       "        text-align: right;\n",
       "    }\n",
       "</style>\n",
       "<table border=\"1\" class=\"dataframe\">\n",
       "  <thead>\n",
       "    <tr style=\"text-align: right;\">\n",
       "      <th></th>\n",
       "      <th>PoolQC</th>\n",
       "      <th>MiscFeature</th>\n",
       "      <th>Alley</th>\n",
       "      <th>Fence</th>\n",
       "      <th>SalePrice</th>\n",
       "      <th>FireplaceQu</th>\n",
       "      <th>LotFrontage</th>\n",
       "      <th>GarageCond</th>\n",
       "      <th>GarageFinish</th>\n",
       "      <th>GarageQual</th>\n",
       "      <th>...</th>\n",
       "      <th>Exterior1st</th>\n",
       "      <th>GarageArea</th>\n",
       "      <th>GarageCars</th>\n",
       "      <th>SaleType</th>\n",
       "      <th>KitchenQual</th>\n",
       "      <th>BsmtFinSF1</th>\n",
       "      <th>Electrical</th>\n",
       "      <th>BsmtFinSF2</th>\n",
       "      <th>BsmtUnfSF</th>\n",
       "      <th>TotalBsmtSF</th>\n",
       "    </tr>\n",
       "    <tr>\n",
       "      <th>Id</th>\n",
       "      <th></th>\n",
       "      <th></th>\n",
       "      <th></th>\n",
       "      <th></th>\n",
       "      <th></th>\n",
       "      <th></th>\n",
       "      <th></th>\n",
       "      <th></th>\n",
       "      <th></th>\n",
       "      <th></th>\n",
       "      <th></th>\n",
       "      <th></th>\n",
       "      <th></th>\n",
       "      <th></th>\n",
       "      <th></th>\n",
       "      <th></th>\n",
       "      <th></th>\n",
       "      <th></th>\n",
       "      <th></th>\n",
       "      <th></th>\n",
       "      <th></th>\n",
       "    </tr>\n",
       "  </thead>\n",
       "  <tbody>\n",
       "    <tr>\n",
       "      <th>1</th>\n",
       "      <td>NaN</td>\n",
       "      <td>NaN</td>\n",
       "      <td>NaN</td>\n",
       "      <td>NaN</td>\n",
       "      <td>208500.0</td>\n",
       "      <td>NaN</td>\n",
       "      <td>65.0</td>\n",
       "      <td>TA</td>\n",
       "      <td>RFn</td>\n",
       "      <td>TA</td>\n",
       "      <td>...</td>\n",
       "      <td>VinylSd</td>\n",
       "      <td>548.0</td>\n",
       "      <td>2.0</td>\n",
       "      <td>WD</td>\n",
       "      <td>Gd</td>\n",
       "      <td>706.0</td>\n",
       "      <td>SBrkr</td>\n",
       "      <td>0.0</td>\n",
       "      <td>150.0</td>\n",
       "      <td>856.0</td>\n",
       "    </tr>\n",
       "    <tr>\n",
       "      <th>2</th>\n",
       "      <td>NaN</td>\n",
       "      <td>NaN</td>\n",
       "      <td>NaN</td>\n",
       "      <td>NaN</td>\n",
       "      <td>181500.0</td>\n",
       "      <td>TA</td>\n",
       "      <td>80.0</td>\n",
       "      <td>TA</td>\n",
       "      <td>RFn</td>\n",
       "      <td>TA</td>\n",
       "      <td>...</td>\n",
       "      <td>MetalSd</td>\n",
       "      <td>460.0</td>\n",
       "      <td>2.0</td>\n",
       "      <td>WD</td>\n",
       "      <td>TA</td>\n",
       "      <td>978.0</td>\n",
       "      <td>SBrkr</td>\n",
       "      <td>0.0</td>\n",
       "      <td>284.0</td>\n",
       "      <td>1262.0</td>\n",
       "    </tr>\n",
       "    <tr>\n",
       "      <th>3</th>\n",
       "      <td>NaN</td>\n",
       "      <td>NaN</td>\n",
       "      <td>NaN</td>\n",
       "      <td>NaN</td>\n",
       "      <td>223500.0</td>\n",
       "      <td>TA</td>\n",
       "      <td>68.0</td>\n",
       "      <td>TA</td>\n",
       "      <td>RFn</td>\n",
       "      <td>TA</td>\n",
       "      <td>...</td>\n",
       "      <td>VinylSd</td>\n",
       "      <td>608.0</td>\n",
       "      <td>2.0</td>\n",
       "      <td>WD</td>\n",
       "      <td>Gd</td>\n",
       "      <td>486.0</td>\n",
       "      <td>SBrkr</td>\n",
       "      <td>0.0</td>\n",
       "      <td>434.0</td>\n",
       "      <td>920.0</td>\n",
       "    </tr>\n",
       "    <tr>\n",
       "      <th>4</th>\n",
       "      <td>NaN</td>\n",
       "      <td>NaN</td>\n",
       "      <td>NaN</td>\n",
       "      <td>NaN</td>\n",
       "      <td>140000.0</td>\n",
       "      <td>Gd</td>\n",
       "      <td>60.0</td>\n",
       "      <td>TA</td>\n",
       "      <td>Unf</td>\n",
       "      <td>TA</td>\n",
       "      <td>...</td>\n",
       "      <td>Wd Sdng</td>\n",
       "      <td>642.0</td>\n",
       "      <td>3.0</td>\n",
       "      <td>WD</td>\n",
       "      <td>Gd</td>\n",
       "      <td>216.0</td>\n",
       "      <td>SBrkr</td>\n",
       "      <td>0.0</td>\n",
       "      <td>540.0</td>\n",
       "      <td>756.0</td>\n",
       "    </tr>\n",
       "    <tr>\n",
       "      <th>5</th>\n",
       "      <td>NaN</td>\n",
       "      <td>NaN</td>\n",
       "      <td>NaN</td>\n",
       "      <td>NaN</td>\n",
       "      <td>250000.0</td>\n",
       "      <td>TA</td>\n",
       "      <td>84.0</td>\n",
       "      <td>TA</td>\n",
       "      <td>RFn</td>\n",
       "      <td>TA</td>\n",
       "      <td>...</td>\n",
       "      <td>VinylSd</td>\n",
       "      <td>836.0</td>\n",
       "      <td>3.0</td>\n",
       "      <td>WD</td>\n",
       "      <td>Gd</td>\n",
       "      <td>655.0</td>\n",
       "      <td>SBrkr</td>\n",
       "      <td>0.0</td>\n",
       "      <td>490.0</td>\n",
       "      <td>1145.0</td>\n",
       "    </tr>\n",
       "    <tr>\n",
       "      <th>...</th>\n",
       "      <td>...</td>\n",
       "      <td>...</td>\n",
       "      <td>...</td>\n",
       "      <td>...</td>\n",
       "      <td>...</td>\n",
       "      <td>...</td>\n",
       "      <td>...</td>\n",
       "      <td>...</td>\n",
       "      <td>...</td>\n",
       "      <td>...</td>\n",
       "      <td>...</td>\n",
       "      <td>...</td>\n",
       "      <td>...</td>\n",
       "      <td>...</td>\n",
       "      <td>...</td>\n",
       "      <td>...</td>\n",
       "      <td>...</td>\n",
       "      <td>...</td>\n",
       "      <td>...</td>\n",
       "      <td>...</td>\n",
       "      <td>...</td>\n",
       "    </tr>\n",
       "    <tr>\n",
       "      <th>2915</th>\n",
       "      <td>NaN</td>\n",
       "      <td>NaN</td>\n",
       "      <td>NaN</td>\n",
       "      <td>NaN</td>\n",
       "      <td>NaN</td>\n",
       "      <td>NaN</td>\n",
       "      <td>21.0</td>\n",
       "      <td>NaN</td>\n",
       "      <td>NaN</td>\n",
       "      <td>NaN</td>\n",
       "      <td>...</td>\n",
       "      <td>CemntBd</td>\n",
       "      <td>0.0</td>\n",
       "      <td>0.0</td>\n",
       "      <td>WD</td>\n",
       "      <td>TA</td>\n",
       "      <td>0.0</td>\n",
       "      <td>SBrkr</td>\n",
       "      <td>0.0</td>\n",
       "      <td>546.0</td>\n",
       "      <td>546.0</td>\n",
       "    </tr>\n",
       "    <tr>\n",
       "      <th>2916</th>\n",
       "      <td>NaN</td>\n",
       "      <td>NaN</td>\n",
       "      <td>NaN</td>\n",
       "      <td>NaN</td>\n",
       "      <td>NaN</td>\n",
       "      <td>NaN</td>\n",
       "      <td>21.0</td>\n",
       "      <td>TA</td>\n",
       "      <td>Unf</td>\n",
       "      <td>TA</td>\n",
       "      <td>...</td>\n",
       "      <td>CemntBd</td>\n",
       "      <td>286.0</td>\n",
       "      <td>1.0</td>\n",
       "      <td>WD</td>\n",
       "      <td>TA</td>\n",
       "      <td>252.0</td>\n",
       "      <td>SBrkr</td>\n",
       "      <td>0.0</td>\n",
       "      <td>294.0</td>\n",
       "      <td>546.0</td>\n",
       "    </tr>\n",
       "    <tr>\n",
       "      <th>2917</th>\n",
       "      <td>NaN</td>\n",
       "      <td>NaN</td>\n",
       "      <td>NaN</td>\n",
       "      <td>NaN</td>\n",
       "      <td>NaN</td>\n",
       "      <td>TA</td>\n",
       "      <td>160.0</td>\n",
       "      <td>TA</td>\n",
       "      <td>Unf</td>\n",
       "      <td>TA</td>\n",
       "      <td>...</td>\n",
       "      <td>VinylSd</td>\n",
       "      <td>576.0</td>\n",
       "      <td>2.0</td>\n",
       "      <td>WD</td>\n",
       "      <td>TA</td>\n",
       "      <td>1224.0</td>\n",
       "      <td>SBrkr</td>\n",
       "      <td>0.0</td>\n",
       "      <td>0.0</td>\n",
       "      <td>1224.0</td>\n",
       "    </tr>\n",
       "    <tr>\n",
       "      <th>2918</th>\n",
       "      <td>NaN</td>\n",
       "      <td>Shed</td>\n",
       "      <td>NaN</td>\n",
       "      <td>MnPrv</td>\n",
       "      <td>NaN</td>\n",
       "      <td>NaN</td>\n",
       "      <td>62.0</td>\n",
       "      <td>NaN</td>\n",
       "      <td>NaN</td>\n",
       "      <td>NaN</td>\n",
       "      <td>...</td>\n",
       "      <td>HdBoard</td>\n",
       "      <td>0.0</td>\n",
       "      <td>0.0</td>\n",
       "      <td>WD</td>\n",
       "      <td>TA</td>\n",
       "      <td>337.0</td>\n",
       "      <td>SBrkr</td>\n",
       "      <td>0.0</td>\n",
       "      <td>575.0</td>\n",
       "      <td>912.0</td>\n",
       "    </tr>\n",
       "    <tr>\n",
       "      <th>2919</th>\n",
       "      <td>NaN</td>\n",
       "      <td>NaN</td>\n",
       "      <td>NaN</td>\n",
       "      <td>NaN</td>\n",
       "      <td>NaN</td>\n",
       "      <td>TA</td>\n",
       "      <td>74.0</td>\n",
       "      <td>TA</td>\n",
       "      <td>Fin</td>\n",
       "      <td>TA</td>\n",
       "      <td>...</td>\n",
       "      <td>HdBoard</td>\n",
       "      <td>650.0</td>\n",
       "      <td>3.0</td>\n",
       "      <td>WD</td>\n",
       "      <td>TA</td>\n",
       "      <td>758.0</td>\n",
       "      <td>SBrkr</td>\n",
       "      <td>0.0</td>\n",
       "      <td>238.0</td>\n",
       "      <td>996.0</td>\n",
       "    </tr>\n",
       "  </tbody>\n",
       "</table>\n",
       "<p>2919 rows × 35 columns</p>\n",
       "</div>"
      ],
      "text/plain": [
       "     PoolQC MiscFeature Alley  Fence  SalePrice FireplaceQu  LotFrontage  \\\n",
       "Id                                                                         \n",
       "1       NaN         NaN   NaN    NaN   208500.0         NaN         65.0   \n",
       "2       NaN         NaN   NaN    NaN   181500.0          TA         80.0   \n",
       "3       NaN         NaN   NaN    NaN   223500.0          TA         68.0   \n",
       "4       NaN         NaN   NaN    NaN   140000.0          Gd         60.0   \n",
       "5       NaN         NaN   NaN    NaN   250000.0          TA         84.0   \n",
       "...     ...         ...   ...    ...        ...         ...          ...   \n",
       "2915    NaN         NaN   NaN    NaN        NaN         NaN         21.0   \n",
       "2916    NaN         NaN   NaN    NaN        NaN         NaN         21.0   \n",
       "2917    NaN         NaN   NaN    NaN        NaN          TA        160.0   \n",
       "2918    NaN        Shed   NaN  MnPrv        NaN         NaN         62.0   \n",
       "2919    NaN         NaN   NaN    NaN        NaN          TA         74.0   \n",
       "\n",
       "     GarageCond GarageFinish GarageQual  ...  Exterior1st GarageArea  \\\n",
       "Id                                       ...                           \n",
       "1            TA          RFn         TA  ...      VinylSd      548.0   \n",
       "2            TA          RFn         TA  ...      MetalSd      460.0   \n",
       "3            TA          RFn         TA  ...      VinylSd      608.0   \n",
       "4            TA          Unf         TA  ...      Wd Sdng      642.0   \n",
       "5            TA          RFn         TA  ...      VinylSd      836.0   \n",
       "...         ...          ...        ...  ...          ...        ...   \n",
       "2915        NaN          NaN        NaN  ...      CemntBd        0.0   \n",
       "2916         TA          Unf         TA  ...      CemntBd      286.0   \n",
       "2917         TA          Unf         TA  ...      VinylSd      576.0   \n",
       "2918        NaN          NaN        NaN  ...      HdBoard        0.0   \n",
       "2919         TA          Fin         TA  ...      HdBoard      650.0   \n",
       "\n",
       "     GarageCars SaleType KitchenQual BsmtFinSF1 Electrical BsmtFinSF2  \\\n",
       "Id                                                                      \n",
       "1           2.0       WD          Gd      706.0      SBrkr        0.0   \n",
       "2           2.0       WD          TA      978.0      SBrkr        0.0   \n",
       "3           2.0       WD          Gd      486.0      SBrkr        0.0   \n",
       "4           3.0       WD          Gd      216.0      SBrkr        0.0   \n",
       "5           3.0       WD          Gd      655.0      SBrkr        0.0   \n",
       "...         ...      ...         ...        ...        ...        ...   \n",
       "2915        0.0       WD          TA        0.0      SBrkr        0.0   \n",
       "2916        1.0       WD          TA      252.0      SBrkr        0.0   \n",
       "2917        2.0       WD          TA     1224.0      SBrkr        0.0   \n",
       "2918        0.0       WD          TA      337.0      SBrkr        0.0   \n",
       "2919        3.0       WD          TA      758.0      SBrkr        0.0   \n",
       "\n",
       "      BsmtUnfSF TotalBsmtSF  \n",
       "Id                           \n",
       "1         150.0       856.0  \n",
       "2         284.0      1262.0  \n",
       "3         434.0       920.0  \n",
       "4         540.0       756.0  \n",
       "5         490.0      1145.0  \n",
       "...         ...         ...  \n",
       "2915      546.0       546.0  \n",
       "2916      294.0       546.0  \n",
       "2917        0.0      1224.0  \n",
       "2918      575.0       912.0  \n",
       "2919      238.0       996.0  \n",
       "\n",
       "[2919 rows x 35 columns]"
      ]
     },
     "execution_count": 11,
     "metadata": {},
     "output_type": "execute_result"
    }
   ],
   "source": [
    "train_data = pd.read_csv(\"../input/house-prices-advanced-regression-techniques/train.csv\",  index_col=\"Id\")\n",
    "test_data = pd.read_csv(\"../input/house-prices-advanced-regression-techniques/test.csv\",  index_col=\"Id\")\n",
    "# Merge the splits so we can process them together\n",
    "df = pd.concat([train_data, test_data])\n",
    "# df = fillMissingValues (df)\n",
    "\n",
    "mv=df.isnull().sum()\n",
    "\n",
    "sorted_missing_values_count = mv.sort_values(ascending=False)\n",
    "print(sorted_missing_values_count[0:35])\n",
    "column_names_with_nv = sorted_missing_values_count[0:35].keys()\n",
    "df[column_names_with_nv]\n",
    "\n",
    "# Reform splits\n",
    "# df_train = df.loc[train_data.index, :]\n",
    "# df_test = df.loc[test_data.index, :]\n",
    "# print(df_train.shape,df_test.shape)"
   ]
  },
  {
   "cell_type": "markdown",
   "id": "d27b8f07",
   "metadata": {
    "papermill": {
     "duration": 0.007906,
     "end_time": "2022-09-20T09:28:11.931073",
     "exception": false,
     "start_time": "2022-09-20T09:28:11.923167",
     "status": "completed"
    },
    "tags": []
   },
   "source": [
    "Seleting columns based on intution and relevancy with sale price. \n",
    " LotArea , Street , Utilities, Neighborhood, BldgType , HouseStyle, OverallQual,\n",
    " OverallCond, YearBuilt, ExterQual, ExterCond, Foundation, BsmtCond, TotalBsmtSF,\n",
    " Heating, HeatingQC, CentralAir, Electrical, 'BedroomAbvGr', 'KitchenAbvGr', GarageType, GarageArea, PoolQC, YrSold, SaleType,SaleCondition, SalePrice"
   ]
  },
  {
   "cell_type": "code",
   "execution_count": null,
   "id": "143c643c",
   "metadata": {
    "papermill": {
     "duration": 0.00775,
     "end_time": "2022-09-20T09:28:11.946930",
     "exception": false,
     "start_time": "2022-09-20T09:28:11.939180",
     "status": "completed"
    },
    "tags": []
   },
   "outputs": [],
   "source": []
  },
  {
   "cell_type": "code",
   "execution_count": 12,
   "id": "5d2c29f8",
   "metadata": {
    "execution": {
     "iopub.execute_input": "2022-09-20T09:28:11.965185Z",
     "iopub.status.busy": "2022-09-20T09:28:11.964366Z",
     "iopub.status.idle": "2022-09-20T09:28:11.978441Z",
     "shell.execute_reply": "2022-09-20T09:28:11.977513Z"
    },
    "papermill": {
     "duration": 0.02588,
     "end_time": "2022-09-20T09:28:11.980779",
     "exception": false,
     "start_time": "2022-09-20T09:28:11.954899",
     "status": "completed"
    },
    "tags": []
   },
   "outputs": [],
   "source": [
    "\n",
    "subset_df1=df[['MSSubClass', 'MSZoning', 'LotFrontage', 'LotArea', 'Street',\n",
    "       'Alley', 'LotShape', 'LandContour', 'Utilities', 'LotConfig',\n",
    "       'LandSlope', 'Neighborhood', 'Condition1', 'Condition2', 'BldgType',\n",
    "       'HouseStyle', 'OverallQual','OverallCond', 'YearBuilt', 'YearRemodAdd','SalePrice']]\n",
    "\n",
    "subset_df2=df[['RoofStyle', 'RoofMatl', 'Exterior1st', 'Exterior2nd', 'MasVnrType',\n",
    "       'MasVnrArea', 'ExterQual', 'ExterCond', 'Foundation', 'BsmtQual',\n",
    "       'BsmtCond', 'BsmtExposure', 'BsmtFinType1', 'BsmtFinSF1',\n",
    "       'BsmtFinType2', 'BsmtFinSF2', 'BsmtUnfSF', 'TotalBsmtSF','SalePrice']]\n",
    "subset_df3=df[['Heating','HeatingQC', 'CentralAir', 'Electrical', '1stFlrSF', '2ndFlrSF',\n",
    "       'LowQualFinSF', 'GrLivArea', 'BsmtFullBath', 'BsmtHalfBath', 'FullBath',\n",
    "       'HalfBath', 'BedroomAbvGr', 'KitchenAbvGr', 'KitchenQual',\n",
    "       'TotRmsAbvGrd','SalePrice']]\n",
    "subset_df4=df[['Functional', 'Fireplaces', 'FireplaceQu', 'GarageType',\n",
    "       'GarageYrBlt', 'GarageFinish', 'GarageCars', 'GarageArea', 'GarageQual',\n",
    "       'GarageCond', 'PavedDrive', 'WoodDeckSF', 'OpenPorchSF',\n",
    "       'EnclosedPorch', '3SsnPorch', 'ScreenPorch', 'PoolArea', 'PoolQC','SalePrice']]\n",
    "subset_df5=df[['Fence', 'MiscFeature', 'MiscVal', 'MoSold', 'YrSold', 'SaleType',\n",
    "       'SaleCondition','SalePrice']]\n"
   ]
  },
  {
   "cell_type": "code",
   "execution_count": 13,
   "id": "d69e60e9",
   "metadata": {
    "execution": {
     "iopub.execute_input": "2022-09-20T09:28:11.998694Z",
     "iopub.status.busy": "2022-09-20T09:28:11.998282Z",
     "iopub.status.idle": "2022-09-20T09:28:12.627785Z",
     "shell.execute_reply": "2022-09-20T09:28:12.626666Z"
    },
    "papermill": {
     "duration": 0.641911,
     "end_time": "2022-09-20T09:28:12.630924",
     "exception": false,
     "start_time": "2022-09-20T09:28:11.989013",
     "status": "completed"
    },
    "tags": []
   },
   "outputs": [
    {
     "data": {
      "text/plain": [
       "<AxesSubplot:>"
      ]
     },
     "execution_count": 13,
     "metadata": {},
     "output_type": "execute_result"
    },
    {
     "data": {
      "image/png": "[encoded data removed]",
      "text/plain": [
       "<Figure size 720x360 with 2 Axes>"
      ]
     },
     "metadata": {
      "needs_background": "light"
     },
     "output_type": "display_data"
    }
   ],
   "source": [
    "# subset_df1.corr()\n",
    "plt.figure(figsize=(10,5))\n",
    "sns.heatmap(subset_df1.corr(),cbar=True,annot=True,cmap='Blues')\n"
   ]
  },
  {
   "cell_type": "code",
   "execution_count": 14,
   "id": "bcf92895",
   "metadata": {
    "execution": {
     "iopub.execute_input": "2022-09-20T09:28:12.651871Z",
     "iopub.status.busy": "2022-09-20T09:28:12.651459Z",
     "iopub.status.idle": "2022-09-20T09:28:13.139408Z",
     "shell.execute_reply": "2022-09-20T09:28:13.138346Z"
    },
    "papermill": {
     "duration": 0.501588,
     "end_time": "2022-09-20T09:28:13.141835",
     "exception": false,
     "start_time": "2022-09-20T09:28:12.640247",
     "status": "completed"
    },
    "tags": []
   },
   "outputs": [
    {
     "data": {
      "text/plain": [
       "<AxesSubplot:>"
      ]
     },
     "execution_count": 14,
     "metadata": {},
     "output_type": "execute_result"
    },
    {
     "data": {
      "image/png": "[encoded data removed]",
      "text/plain": [
       "<Figure size 720x360 with 2 Axes>"
      ]
     },
     "metadata": {
      "needs_background": "light"
     },
     "output_type": "display_data"
    }
   ],
   "source": [
    "plt.figure(figsize=(10,5))\n",
    "sns.heatmap(subset_df2.corr(),cbar=True,annot=True,cmap='Blues')\n"
   ]
  },
  {
   "cell_type": "code",
   "execution_count": 15,
   "id": "c9bdae61",
   "metadata": {
    "execution": {
     "iopub.execute_input": "2022-09-20T09:28:13.163596Z",
     "iopub.status.busy": "2022-09-20T09:28:13.163192Z",
     "iopub.status.idle": "2022-09-20T09:28:14.193757Z",
     "shell.execute_reply": "2022-09-20T09:28:14.192530Z"
    },
    "papermill": {
     "duration": 1.044612,
     "end_time": "2022-09-20T09:28:14.196793",
     "exception": false,
     "start_time": "2022-09-20T09:28:13.152181",
     "status": "completed"
    },
    "tags": []
   },
   "outputs": [
    {
     "data": {
      "text/plain": [
       "<AxesSubplot:>"
      ]
     },
     "execution_count": 15,
     "metadata": {},
     "output_type": "execute_result"
    },
    {
     "data": {
      "image/png": "[encoded data removed]",
      "text/plain": [
       "<Figure size 720x360 with 2 Axes>"
      ]
     },
     "metadata": {
      "needs_background": "light"
     },
     "output_type": "display_data"
    }
   ],
   "source": [
    "plt.figure(figsize=(10,5))\n",
    "sns.heatmap(subset_df3.corr(),cbar=True,annot=True,cmap='Blues')\n"
   ]
  },
  {
   "cell_type": "code",
   "execution_count": 16,
   "id": "2b5ee252",
   "metadata": {
    "execution": {
     "iopub.execute_input": "2022-09-20T09:28:14.225850Z",
     "iopub.status.busy": "2022-09-20T09:28:14.225255Z",
     "iopub.status.idle": "2022-09-20T09:28:15.158431Z",
     "shell.execute_reply": "2022-09-20T09:28:15.157548Z"
    },
    "papermill": {
     "duration": 0.949051,
     "end_time": "2022-09-20T09:28:15.160689",
     "exception": false,
     "start_time": "2022-09-20T09:28:14.211638",
     "status": "completed"
    },
    "tags": []
   },
   "outputs": [
    {
     "data": {
      "text/plain": [
       "<AxesSubplot:>"
      ]
     },
     "execution_count": 16,
     "metadata": {},
     "output_type": "execute_result"
    },
    {
     "data": {
      "image/png": "[encoded data removed]",
      "text/plain": [
       "<Figure size 720x360 with 2 Axes>"
      ]
     },
     "metadata": {
      "needs_background": "light"
     },
     "output_type": "display_data"
    }
   ],
   "source": [
    "plt.figure(figsize=(10,5))\n",
    "sns.heatmap(subset_df4.corr(),cbar=True,annot=True,cmap='Blues')\n"
   ]
  },
  {
   "cell_type": "code",
   "execution_count": 17,
   "id": "ab7d7539",
   "metadata": {
    "execution": {
     "iopub.execute_input": "2022-09-20T09:28:15.188500Z",
     "iopub.status.busy": "2022-09-20T09:28:15.188133Z",
     "iopub.status.idle": "2022-09-20T09:28:15.491262Z",
     "shell.execute_reply": "2022-09-20T09:28:15.490133Z"
    },
    "papermill": {
     "duration": 0.319889,
     "end_time": "2022-09-20T09:28:15.493623",
     "exception": false,
     "start_time": "2022-09-20T09:28:15.173734",
     "status": "completed"
    },
    "tags": []
   },
   "outputs": [
    {
     "data": {
      "text/plain": [
       "<AxesSubplot:>"
      ]
     },
     "execution_count": 17,
     "metadata": {},
     "output_type": "execute_result"
    },
    {
     "data": {
      "image/png": "[encoded data removed]",
      "text/plain": [
       "<Figure size 720x360 with 2 Axes>"
      ]
     },
     "metadata": {
      "needs_background": "light"
     },
     "output_type": "display_data"
    }
   ],
   "source": [
    "plt.figure(figsize=(10,5))\n",
    "sns.heatmap(subset_df5.corr(),cbar=True,annot=True,cmap='Blues')\n"
   ]
  },
  {
   "cell_type": "code",
   "execution_count": null,
   "id": "0365ed89",
   "metadata": {
    "papermill": {
     "duration": 0.014586,
     "end_time": "2022-09-20T09:28:15.522339",
     "exception": false,
     "start_time": "2022-09-20T09:28:15.507753",
     "status": "completed"
    },
    "tags": []
   },
   "outputs": [],
   "source": []
  }
 ],
 "metadata": {
  "kernelspec": {
   "display_name": "Python 3",
   "language": "python",
   "name": "python3"
  },
  "language_info": {
   "codemirror_mode": {
    "name": "ipython",
    "version": 3
   },
   "file_extension": ".py",
   "mimetype": "text/x-python",
   "name": "python",
   "nbconvert_exporter": "python",
   "pygments_lexer": "ipython3",
   "version": "3.7.12"
  },
  "papermill": {
   "default_parameters": {},
   "duration": 14.897532,
   "end_time": "2022-09-20T09:28:16.258186",
   "environment_variables": {},
   "exception": null,
   "input_path": "__notebook__.ipynb",
   "output_path": "__notebook__.ipynb",
   "parameters": {},
   "start_time": "2022-09-20T09:28:01.360654",
   "version": "2.3.4"
  }
 },
 "nbformat": 4,
 "nbformat_minor": 5
}
